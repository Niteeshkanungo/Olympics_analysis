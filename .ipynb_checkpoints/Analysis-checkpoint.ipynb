{
 "cells": [
  {
   "cell_type": "code",
   "execution_count": null,
   "metadata": {},
   "outputs": [],
   "source": [
    "#installing dependency\n",
    "import pandas as pd \n",
    "import numpy as np\n",
    "import matplotlib.pyplot as plt "
   ]
  },
  {
   "cell_type": "code",
   "execution_count": null,
   "metadata": {},
   "outputs": [],
   "source": [
    "athletes = pd.read_csv(\"Olympic_data/athlete_events.csv\", index_col=\"ID\")\n",
    "noc = pd.read_csv(\"Olympic_data/noc_regions.csv\")"
   ]
  },
  {
   "cell_type": "code",
   "execution_count": null,
   "metadata": {},
   "outputs": [],
   "source": [
    "athletes.head(5)"
   ]
  },
  {
   "cell_type": "code",
   "execution_count": null,
   "metadata": {},
   "outputs": [],
   "source": [
    "noc.head()"
   ]
  },
  {
   "cell_type": "code",
   "execution_count": null,
   "metadata": {},
   "outputs": [],
   "source": [
    "#Min age is 10! \n",
    "athletes.describe().transpose()"
   ]
  },
  {
   "cell_type": "code",
   "execution_count": null,
   "metadata": {},
   "outputs": [],
   "source": [
    "#Merge both the dfs\n",
    "athletes = athletes.merge(noc, on=\"NOC\")"
   ]
  },
  {
   "cell_type": "markdown",
   "metadata": {},
   "source": [
    "Function used to check the percentage of NAN values in the dataframe"
   ]
  },
  {
   "cell_type": "code",
   "execution_count": null,
   "metadata": {},
   "outputs": [],
   "source": [
    "def missing_values_table(df):\n",
    "        mis_val = df.isnull().sum()\n",
    "        mis_val_percent = 100 * df.isnull().sum() / len(df)\n",
    "        mis_val_table = pd.concat([mis_val, mis_val_percent], axis=1)\n",
    "        mis_val_table_ren_columns = mis_val_table.rename(\n",
    "        columns = {0 : 'Missing Values', 1 : '% of Total Values'})\n",
    "        mis_val_table_ren_columns = mis_val_table_ren_columns[\n",
    "            mis_val_table_ren_columns.iloc[:,1] != 0].sort_values(\n",
    "        '% of Total Values', ascending=False).round(1)\n",
    "        print (\"Your selected dataframe has \" + str(df.shape[1]) + \" columns.\\n\"      \n",
    "            \"There are \" + str(mis_val_table_ren_columns.shape[0]) +\n",
    "              \" columns that have missing values.\")\n",
    "        return mis_val_table_ren_columns"
   ]
  },
  {
   "cell_type": "code",
   "execution_count": null,
   "metadata": {},
   "outputs": [],
   "source": [
    "missing_values_table(athletes)"
   ]
  },
  {
   "cell_type": "code",
   "execution_count": null,
   "metadata": {},
   "outputs": [],
   "source": [
    "athletes[athletes.region.isnull()].notes.unique()"
   ]
  },
  {
   "cell_type": "markdown",
   "metadata": {},
   "source": [
    "Tulavu and Refugee Olympic team participated from undefined noc!"
   ]
  },
  {
   "cell_type": "markdown",
   "metadata": {},
   "source": [
    "https://en.wikipedia.org/wiki/Tuvalu \n",
    "\n",
    "https://en.wikipedia.org/wiki/Refugee_Olympic_Team_at_the_2016_Summer_Olympics"
   ]
  },
  {
   "cell_type": "code",
   "execution_count": null,
   "metadata": {},
   "outputs": [],
   "source": [
    "athletes[athletes.notes.isnull()].notes.unique()"
   ]
  },
  {
   "cell_type": "code",
   "execution_count": null,
   "metadata": {},
   "outputs": [],
   "source": [
    "athletes.drop(\"notes\",axis=1,inplace=True)"
   ]
  },
  {
   "cell_type": "code",
   "execution_count": null,
   "metadata": {},
   "outputs": [],
   "source": [
    "athletes.Sex.unique()"
   ]
  },
  {
   "cell_type": "code",
   "execution_count": null,
   "metadata": {},
   "outputs": [],
   "source": [
    "athletes.Medal.unique()"
   ]
  },
  {
   "cell_type": "code",
   "execution_count": null,
   "metadata": {},
   "outputs": [],
   "source": [
    "Male = athletes[athletes.Sex == 'M']\n",
    "Female = athletes[athletes.Sex == 'F']"
   ]
  },
  {
   "cell_type": "code",
   "execution_count": null,
   "metadata": {},
   "outputs": [],
   "source": [
    "athletes[\"BMI\"]  = athletes.Weight/(athletes.Height/100)**2"
   ]
  },
  {
   "cell_type": "code",
   "execution_count": null,
   "metadata": {},
   "outputs": [],
   "source": [
    "athletes.columns"
   ]
  },
  {
   "cell_type": "code",
   "execution_count": null,
   "metadata": {},
   "outputs": [],
   "source": [
    "print(\"Mean Height of Female Athletes\")\n",
    "print(\"Gold: \" + str(Female[Female[\"Medal\"] == \"Gold\"].Height.mean()))\n",
    "print(\"Silver: \" + str(Female[Female[\"Medal\"] == \"Silver\"].Height.mean()))\n",
    "print(\"Broze: \" + str(Female[Female[\"Medal\"] == \"Bronze\"].Height.mean()))\n",
    "print(\"All Female: \" + str(Female.Height.mean()))"
   ]
  },
  {
   "cell_type": "code",
   "execution_count": null,
   "metadata": {},
   "outputs": [],
   "source": [
    "print(\"Mean Weight of Male Athletes\")\n",
    "print(\"Gold: \" + str(Male[Male[\"Medal\"] == \"Gold\"].Weight.mean()))\n",
    "print(\"Silver: \" + str(Male[Male[\"Medal\"] == \"Silver\"].Weight.mean()))\n",
    "print(\"Broze: \" + str(Male[Male[\"Medal\"] == \"Bronze\"].Weight.mean()))\n",
    "print(\"All Male: \" + str(athletes.Weight.mean()))"
   ]
  },
  {
   "cell_type": "code",
   "execution_count": null,
   "metadata": {},
   "outputs": [],
   "source": [
    "print(\"Mean Weight of Female Athletes\")\n",
    "print(\"Gold: \" + str(Female[Female[\"Medal\"] == \"Gold\"].Weight.mean()))\n",
    "print(\"Silver: \" + str(Female[Female[\"Medal\"] == \"Silver\"].Weight.mean()))\n",
    "print(\"Broze: \" + str(Female[Female[\"Medal\"] == \"Bronze\"].Weight.mean()))\n",
    "print(\"All Female: \" + str(Female.Weight.mean()))"
   ]
  },
  {
   "cell_type": "code",
   "execution_count": null,
   "metadata": {},
   "outputs": [],
   "source": [
    "print(\"Mean Height of Male Athletes\")\n",
    "print(\"Gold: \" + str(Male[Male[\"Medal\"] == \"Gold\"].Height.mean()))\n",
    "print(\"Silver: \" + str(Male[Male[\"Medal\"] == \"Silver\"].Height.mean()))\n",
    "print(\"Broze: \" + str(Male[Male[\"Medal\"] == \"Bronze\"].Height.mean()))\n",
    "print(\"All Male Athletes: \" + str(Male.Height.mean()))"
   ]
  },
  {
   "cell_type": "code",
   "execution_count": null,
   "metadata": {},
   "outputs": [],
   "source": [
    "Male.region.value_counts().reset_index(name='Medal').head(5)"
   ]
  },
  {
   "cell_type": "code",
   "execution_count": null,
   "metadata": {},
   "outputs": [],
   "source": [
    "Female.region.value_counts().reset_index(name='Medal').head(5)"
   ]
  },
  {
   "cell_type": "code",
   "execution_count": null,
   "metadata": {},
   "outputs": [],
   "source": [
    "athletes[(athletes.region == \"Nepal\")&(athletes.Medal == \"Gold\")].sort_values(\"Year\")"
   ]
  },
  {
   "cell_type": "markdown",
   "metadata": {},
   "source": [
    "Nepal only won one Gold since 1924! "
   ]
  },
  {
   "cell_type": "code",
   "execution_count": null,
   "metadata": {},
   "outputs": [],
   "source": [
    "fig = plt.figure(figsize=(12,6))\n",
    "axes = fig.add_axes([1, 1, 0.8, 0.8]) \n",
    "axes.scatter(athletes.Height, athletes.Weight, alpha=0.01, s=athletes.BMI*5, cmap='viridis');\n",
    "axes.set_xlabel(\"Height in cms.\")\n",
    "axes.set_ylabel(\"Weight in kgs.\")\n",
    "#axes.set_xmargin(2)\n",
    "#axes.legend()\n",
    "axes.axhline(y = 60, linewidth = 2, color = \"y\")\n",
    "axes.axhline(y = 70,  linewidth = 2, color = \"g\")\n",
    "axes.axvline(167,color = \"y\")\n",
    "axes.axvline(178,color = \"g\")"
   ]
  },
  {
   "cell_type": "code",
   "execution_count": null,
   "metadata": {},
   "outputs": [],
   "source": [
    "athletes.groupby(\"Sport\").mean().sort_values(\"BMI\").head(20).BMI.dropna(axis=0)"
   ]
  },
  {
   "cell_type": "code",
   "execution_count": null,
   "metadata": {},
   "outputs": [],
   "source": [
    "athletes.groupby(\"Sport\").mean().sort_values(\"BMI\").tail(10).BMI.dropna(axis=0)"
   ]
  },
  {
   "cell_type": "code",
   "execution_count": null,
   "metadata": {},
   "outputs": [],
   "source": [
    "athletes.groupby(\"Age\").count().Name.plot(kind=\"bar\",figsize=(12,6));"
   ]
  },
  {
   "cell_type": "code",
   "execution_count": null,
   "metadata": {},
   "outputs": [],
   "source": [
    "BMI_list = []\n",
    "for i in range(100):\n",
    "    BMI_list.append(athletes[athletes[\"Age\"]==i].BMI.mean())"
   ]
  },
  {
   "cell_type": "code",
   "execution_count": null,
   "metadata": {},
   "outputs": [],
   "source": [
    "np.array(BMI_list)"
   ]
  },
  {
   "cell_type": "code",
   "execution_count": null,
   "metadata": {},
   "outputs": [],
   "source": [
    "Female.groupby(\"Age\").Height.mean().plot(figsize=(10,4));"
   ]
  },
  {
   "cell_type": "code",
   "execution_count": null,
   "metadata": {},
   "outputs": [],
   "source": [
    "Male.groupby(\"Age\").Height.mean().plot(figsize=(10,4));"
   ]
  },
  {
   "cell_type": "code",
   "execution_count": null,
   "metadata": {},
   "outputs": [],
   "source": [
    "Male.groupby(\"Name\").Medal.count().sort_values().tail(10)"
   ]
  },
  {
   "cell_type": "code",
   "execution_count": null,
   "metadata": {},
   "outputs": [],
   "source": [
    "athletes.describe().transpose()"
   ]
  },
  {
   "cell_type": "code",
   "execution_count": null,
   "metadata": {},
   "outputs": [],
   "source": [
    "athletes[athletes[\"BMI\"]> 60]"
   ]
  }
 ],
 "metadata": {
  "kernelspec": {
   "display_name": "Python 3",
   "language": "python",
   "name": "python3"
  },
  "language_info": {
   "codemirror_mode": {
    "name": "ipython",
    "version": 3
   },
   "file_extension": ".py",
   "mimetype": "text/x-python",
   "name": "python",
   "nbconvert_exporter": "python",
   "pygments_lexer": "ipython3",
   "version": "3.6.6"
  }
 },
 "nbformat": 4,
 "nbformat_minor": 2
}
